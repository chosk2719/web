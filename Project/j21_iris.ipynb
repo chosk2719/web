{
 "cells": [
  {
   "cell_type": "markdown",
   "metadata": {},
   "source": [
    "# iris. 분류"
   ]
  },
  {
   "cell_type": "markdown",
   "metadata": {},
   "source": [
    "### logistic regression"
   ]
  },
  {
   "cell_type": "code",
   "execution_count": 1,
   "metadata": {},
   "outputs": [],
   "source": [
    "import numpy as np\n",
    "import pandas as pd\n",
    "import warnings\n",
    "warnings.filterwarnings('ignore')"
   ]
  },
  {
   "cell_type": "code",
   "execution_count": 2,
   "metadata": {},
   "outputs": [],
   "source": [
    "from sklearn.datasets import load_iris\n",
    "iris = load_iris()"
   ]
  },
  {
   "cell_type": "code",
   "execution_count": 3,
   "metadata": {},
   "outputs": [],
   "source": [
    "#data, target, target_names, DESCR"
   ]
  },
  {
   "cell_type": "code",
   "execution_count": 4,
   "metadata": {},
   "outputs": [
    {
     "data": {
      "text/plain": [
       "{'data': array([[5.1, 3.5, 1.4, 0.2],\n",
       "        [4.9, 3. , 1.4, 0.2],\n",
       "        [4.7, 3.2, 1.3, 0.2],\n",
       "        [4.6, 3.1, 1.5, 0.2],\n",
       "        [5. , 3.6, 1.4, 0.2],\n",
       "        [5.4, 3.9, 1.7, 0.4],\n",
       "        [4.6, 3.4, 1.4, 0.3],\n",
       "        [5. , 3.4, 1.5, 0.2],\n",
       "        [4.4, 2.9, 1.4, 0.2],\n",
       "        [4.9, 3.1, 1.5, 0.1],\n",
       "        [5.4, 3.7, 1.5, 0.2],\n",
       "        [4.8, 3.4, 1.6, 0.2],\n",
       "        [4.8, 3. , 1.4, 0.1],\n",
       "        [4.3, 3. , 1.1, 0.1],\n",
       "        [5.8, 4. , 1.2, 0.2],\n",
       "        [5.7, 4.4, 1.5, 0.4],\n",
       "        [5.4, 3.9, 1.3, 0.4],\n",
       "        [5.1, 3.5, 1.4, 0.3],\n",
       "        [5.7, 3.8, 1.7, 0.3],\n",
       "        [5.1, 3.8, 1.5, 0.3],\n",
       "        [5.4, 3.4, 1.7, 0.2],\n",
       "        [5.1, 3.7, 1.5, 0.4],\n",
       "        [4.6, 3.6, 1. , 0.2],\n",
       "        [5.1, 3.3, 1.7, 0.5],\n",
       "        [4.8, 3.4, 1.9, 0.2],\n",
       "        [5. , 3. , 1.6, 0.2],\n",
       "        [5. , 3.4, 1.6, 0.4],\n",
       "        [5.2, 3.5, 1.5, 0.2],\n",
       "        [5.2, 3.4, 1.4, 0.2],\n",
       "        [4.7, 3.2, 1.6, 0.2],\n",
       "        [4.8, 3.1, 1.6, 0.2],\n",
       "        [5.4, 3.4, 1.5, 0.4],\n",
       "        [5.2, 4.1, 1.5, 0.1],\n",
       "        [5.5, 4.2, 1.4, 0.2],\n",
       "        [4.9, 3.1, 1.5, 0.2],\n",
       "        [5. , 3.2, 1.2, 0.2],\n",
       "        [5.5, 3.5, 1.3, 0.2],\n",
       "        [4.9, 3.6, 1.4, 0.1],\n",
       "        [4.4, 3. , 1.3, 0.2],\n",
       "        [5.1, 3.4, 1.5, 0.2],\n",
       "        [5. , 3.5, 1.3, 0.3],\n",
       "        [4.5, 2.3, 1.3, 0.3],\n",
       "        [4.4, 3.2, 1.3, 0.2],\n",
       "        [5. , 3.5, 1.6, 0.6],\n",
       "        [5.1, 3.8, 1.9, 0.4],\n",
       "        [4.8, 3. , 1.4, 0.3],\n",
       "        [5.1, 3.8, 1.6, 0.2],\n",
       "        [4.6, 3.2, 1.4, 0.2],\n",
       "        [5.3, 3.7, 1.5, 0.2],\n",
       "        [5. , 3.3, 1.4, 0.2],\n",
       "        [7. , 3.2, 4.7, 1.4],\n",
       "        [6.4, 3.2, 4.5, 1.5],\n",
       "        [6.9, 3.1, 4.9, 1.5],\n",
       "        [5.5, 2.3, 4. , 1.3],\n",
       "        [6.5, 2.8, 4.6, 1.5],\n",
       "        [5.7, 2.8, 4.5, 1.3],\n",
       "        [6.3, 3.3, 4.7, 1.6],\n",
       "        [4.9, 2.4, 3.3, 1. ],\n",
       "        [6.6, 2.9, 4.6, 1.3],\n",
       "        [5.2, 2.7, 3.9, 1.4],\n",
       "        [5. , 2. , 3.5, 1. ],\n",
       "        [5.9, 3. , 4.2, 1.5],\n",
       "        [6. , 2.2, 4. , 1. ],\n",
       "        [6.1, 2.9, 4.7, 1.4],\n",
       "        [5.6, 2.9, 3.6, 1.3],\n",
       "        [6.7, 3.1, 4.4, 1.4],\n",
       "        [5.6, 3. , 4.5, 1.5],\n",
       "        [5.8, 2.7, 4.1, 1. ],\n",
       "        [6.2, 2.2, 4.5, 1.5],\n",
       "        [5.6, 2.5, 3.9, 1.1],\n",
       "        [5.9, 3.2, 4.8, 1.8],\n",
       "        [6.1, 2.8, 4. , 1.3],\n",
       "        [6.3, 2.5, 4.9, 1.5],\n",
       "        [6.1, 2.8, 4.7, 1.2],\n",
       "        [6.4, 2.9, 4.3, 1.3],\n",
       "        [6.6, 3. , 4.4, 1.4],\n",
       "        [6.8, 2.8, 4.8, 1.4],\n",
       "        [6.7, 3. , 5. , 1.7],\n",
       "        [6. , 2.9, 4.5, 1.5],\n",
       "        [5.7, 2.6, 3.5, 1. ],\n",
       "        [5.5, 2.4, 3.8, 1.1],\n",
       "        [5.5, 2.4, 3.7, 1. ],\n",
       "        [5.8, 2.7, 3.9, 1.2],\n",
       "        [6. , 2.7, 5.1, 1.6],\n",
       "        [5.4, 3. , 4.5, 1.5],\n",
       "        [6. , 3.4, 4.5, 1.6],\n",
       "        [6.7, 3.1, 4.7, 1.5],\n",
       "        [6.3, 2.3, 4.4, 1.3],\n",
       "        [5.6, 3. , 4.1, 1.3],\n",
       "        [5.5, 2.5, 4. , 1.3],\n",
       "        [5.5, 2.6, 4.4, 1.2],\n",
       "        [6.1, 3. , 4.6, 1.4],\n",
       "        [5.8, 2.6, 4. , 1.2],\n",
       "        [5. , 2.3, 3.3, 1. ],\n",
       "        [5.6, 2.7, 4.2, 1.3],\n",
       "        [5.7, 3. , 4.2, 1.2],\n",
       "        [5.7, 2.9, 4.2, 1.3],\n",
       "        [6.2, 2.9, 4.3, 1.3],\n",
       "        [5.1, 2.5, 3. , 1.1],\n",
       "        [5.7, 2.8, 4.1, 1.3],\n",
       "        [6.3, 3.3, 6. , 2.5],\n",
       "        [5.8, 2.7, 5.1, 1.9],\n",
       "        [7.1, 3. , 5.9, 2.1],\n",
       "        [6.3, 2.9, 5.6, 1.8],\n",
       "        [6.5, 3. , 5.8, 2.2],\n",
       "        [7.6, 3. , 6.6, 2.1],\n",
       "        [4.9, 2.5, 4.5, 1.7],\n",
       "        [7.3, 2.9, 6.3, 1.8],\n",
       "        [6.7, 2.5, 5.8, 1.8],\n",
       "        [7.2, 3.6, 6.1, 2.5],\n",
       "        [6.5, 3.2, 5.1, 2. ],\n",
       "        [6.4, 2.7, 5.3, 1.9],\n",
       "        [6.8, 3. , 5.5, 2.1],\n",
       "        [5.7, 2.5, 5. , 2. ],\n",
       "        [5.8, 2.8, 5.1, 2.4],\n",
       "        [6.4, 3.2, 5.3, 2.3],\n",
       "        [6.5, 3. , 5.5, 1.8],\n",
       "        [7.7, 3.8, 6.7, 2.2],\n",
       "        [7.7, 2.6, 6.9, 2.3],\n",
       "        [6. , 2.2, 5. , 1.5],\n",
       "        [6.9, 3.2, 5.7, 2.3],\n",
       "        [5.6, 2.8, 4.9, 2. ],\n",
       "        [7.7, 2.8, 6.7, 2. ],\n",
       "        [6.3, 2.7, 4.9, 1.8],\n",
       "        [6.7, 3.3, 5.7, 2.1],\n",
       "        [7.2, 3.2, 6. , 1.8],\n",
       "        [6.2, 2.8, 4.8, 1.8],\n",
       "        [6.1, 3. , 4.9, 1.8],\n",
       "        [6.4, 2.8, 5.6, 2.1],\n",
       "        [7.2, 3. , 5.8, 1.6],\n",
       "        [7.4, 2.8, 6.1, 1.9],\n",
       "        [7.9, 3.8, 6.4, 2. ],\n",
       "        [6.4, 2.8, 5.6, 2.2],\n",
       "        [6.3, 2.8, 5.1, 1.5],\n",
       "        [6.1, 2.6, 5.6, 1.4],\n",
       "        [7.7, 3. , 6.1, 2.3],\n",
       "        [6.3, 3.4, 5.6, 2.4],\n",
       "        [6.4, 3.1, 5.5, 1.8],\n",
       "        [6. , 3. , 4.8, 1.8],\n",
       "        [6.9, 3.1, 5.4, 2.1],\n",
       "        [6.7, 3.1, 5.6, 2.4],\n",
       "        [6.9, 3.1, 5.1, 2.3],\n",
       "        [5.8, 2.7, 5.1, 1.9],\n",
       "        [6.8, 3.2, 5.9, 2.3],\n",
       "        [6.7, 3.3, 5.7, 2.5],\n",
       "        [6.7, 3. , 5.2, 2.3],\n",
       "        [6.3, 2.5, 5. , 1.9],\n",
       "        [6.5, 3. , 5.2, 2. ],\n",
       "        [6.2, 3.4, 5.4, 2.3],\n",
       "        [5.9, 3. , 5.1, 1.8]]),\n",
       " 'target': array([0, 0, 0, 0, 0, 0, 0, 0, 0, 0, 0, 0, 0, 0, 0, 0, 0, 0, 0, 0, 0, 0,\n",
       "        0, 0, 0, 0, 0, 0, 0, 0, 0, 0, 0, 0, 0, 0, 0, 0, 0, 0, 0, 0, 0, 0,\n",
       "        0, 0, 0, 0, 0, 0, 1, 1, 1, 1, 1, 1, 1, 1, 1, 1, 1, 1, 1, 1, 1, 1,\n",
       "        1, 1, 1, 1, 1, 1, 1, 1, 1, 1, 1, 1, 1, 1, 1, 1, 1, 1, 1, 1, 1, 1,\n",
       "        1, 1, 1, 1, 1, 1, 1, 1, 1, 1, 1, 1, 2, 2, 2, 2, 2, 2, 2, 2, 2, 2,\n",
       "        2, 2, 2, 2, 2, 2, 2, 2, 2, 2, 2, 2, 2, 2, 2, 2, 2, 2, 2, 2, 2, 2,\n",
       "        2, 2, 2, 2, 2, 2, 2, 2, 2, 2, 2, 2, 2, 2, 2, 2, 2, 2]),\n",
       " 'frame': None,\n",
       " 'target_names': array(['setosa', 'versicolor', 'virginica'], dtype='<U10'),\n",
       " 'DESCR': '.. _iris_dataset:\\n\\nIris plants dataset\\n--------------------\\n\\n**Data Set Characteristics:**\\n\\n    :Number of Instances: 150 (50 in each of three classes)\\n    :Number of Attributes: 4 numeric, predictive attributes and the class\\n    :Attribute Information:\\n        - sepal length in cm\\n        - sepal width in cm\\n        - petal length in cm\\n        - petal width in cm\\n        - class:\\n                - Iris-Setosa\\n                - Iris-Versicolour\\n                - Iris-Virginica\\n                \\n    :Summary Statistics:\\n\\n    ============== ==== ==== ======= ===== ====================\\n                    Min  Max   Mean    SD   Class Correlation\\n    ============== ==== ==== ======= ===== ====================\\n    sepal length:   4.3  7.9   5.84   0.83    0.7826\\n    sepal width:    2.0  4.4   3.05   0.43   -0.4194\\n    petal length:   1.0  6.9   3.76   1.76    0.9490  (high!)\\n    petal width:    0.1  2.5   1.20   0.76    0.9565  (high!)\\n    ============== ==== ==== ======= ===== ====================\\n\\n    :Missing Attribute Values: None\\n    :Class Distribution: 33.3% for each of 3 classes.\\n    :Creator: R.A. Fisher\\n    :Donor: Michael Marshall (MARSHALL%PLU@io.arc.nasa.gov)\\n    :Date: July, 1988\\n\\nThe famous Iris database, first used by Sir R.A. Fisher. The dataset is taken\\nfrom Fisher\\'s paper. Note that it\\'s the same as in R, but not as in the UCI\\nMachine Learning Repository, which has two wrong data points.\\n\\nThis is perhaps the best known database to be found in the\\npattern recognition literature.  Fisher\\'s paper is a classic in the field and\\nis referenced frequently to this day.  (See Duda & Hart, for example.)  The\\ndata set contains 3 classes of 50 instances each, where each class refers to a\\ntype of iris plant.  One class is linearly separable from the other 2; the\\nlatter are NOT linearly separable from each other.\\n\\n.. topic:: References\\n\\n   - Fisher, R.A. \"The use of multiple measurements in taxonomic problems\"\\n     Annual Eugenics, 7, Part II, 179-188 (1936); also in \"Contributions to\\n     Mathematical Statistics\" (John Wiley, NY, 1950).\\n   - Duda, R.O., & Hart, P.E. (1973) Pattern Classification and Scene Analysis.\\n     (Q327.D83) John Wiley & Sons.  ISBN 0-471-22361-1.  See page 218.\\n   - Dasarathy, B.V. (1980) \"Nosing Around the Neighborhood: A New System\\n     Structure and Classification Rule for Recognition in Partially Exposed\\n     Environments\".  IEEE Transactions on Pattern Analysis and Machine\\n     Intelligence, Vol. PAMI-2, No. 1, 67-71.\\n   - Gates, G.W. (1972) \"The Reduced Nearest Neighbor Rule\".  IEEE Transactions\\n     on Information Theory, May 1972, 431-433.\\n   - See also: 1988 MLC Proceedings, 54-64.  Cheeseman et al\"s AUTOCLASS II\\n     conceptual clustering system finds 3 classes in the data.\\n   - Many, many more ...',\n",
       " 'feature_names': ['sepal length (cm)',\n",
       "  'sepal width (cm)',\n",
       "  'petal length (cm)',\n",
       "  'petal width (cm)'],\n",
       " 'filename': 'C:\\\\ProgramData\\\\Anaconda3\\\\envs\\\\pyflask\\\\lib\\\\site-packages\\\\sklearn\\\\datasets\\\\data\\\\iris.csv'}"
      ]
     },
     "execution_count": 4,
     "metadata": {},
     "output_type": "execute_result"
    }
   ],
   "source": [
    "iris"
   ]
  },
  {
   "cell_type": "code",
   "execution_count": 5,
   "metadata": {},
   "outputs": [
    {
     "data": {
      "text/html": [
       "<div>\n",
       "<style scoped>\n",
       "    .dataframe tbody tr th:only-of-type {\n",
       "        vertical-align: middle;\n",
       "    }\n",
       "\n",
       "    .dataframe tbody tr th {\n",
       "        vertical-align: top;\n",
       "    }\n",
       "\n",
       "    .dataframe thead th {\n",
       "        text-align: right;\n",
       "    }\n",
       "</style>\n",
       "<table border=\"1\" class=\"dataframe\">\n",
       "  <thead>\n",
       "    <tr style=\"text-align: right;\">\n",
       "      <th></th>\n",
       "      <th>sepal length (cm)</th>\n",
       "      <th>sepal width (cm)</th>\n",
       "      <th>petal length (cm)</th>\n",
       "      <th>petal width (cm)</th>\n",
       "    </tr>\n",
       "  </thead>\n",
       "  <tbody>\n",
       "    <tr>\n",
       "      <th>0</th>\n",
       "      <td>5.1</td>\n",
       "      <td>3.5</td>\n",
       "      <td>1.4</td>\n",
       "      <td>0.2</td>\n",
       "    </tr>\n",
       "    <tr>\n",
       "      <th>1</th>\n",
       "      <td>4.9</td>\n",
       "      <td>3.0</td>\n",
       "      <td>1.4</td>\n",
       "      <td>0.2</td>\n",
       "    </tr>\n",
       "    <tr>\n",
       "      <th>2</th>\n",
       "      <td>4.7</td>\n",
       "      <td>3.2</td>\n",
       "      <td>1.3</td>\n",
       "      <td>0.2</td>\n",
       "    </tr>\n",
       "    <tr>\n",
       "      <th>3</th>\n",
       "      <td>4.6</td>\n",
       "      <td>3.1</td>\n",
       "      <td>1.5</td>\n",
       "      <td>0.2</td>\n",
       "    </tr>\n",
       "    <tr>\n",
       "      <th>4</th>\n",
       "      <td>5.0</td>\n",
       "      <td>3.6</td>\n",
       "      <td>1.4</td>\n",
       "      <td>0.2</td>\n",
       "    </tr>\n",
       "  </tbody>\n",
       "</table>\n",
       "</div>"
      ],
      "text/plain": [
       "   sepal length (cm)  sepal width (cm)  petal length (cm)  petal width (cm)\n",
       "0                5.1               3.5                1.4               0.2\n",
       "1                4.9               3.0                1.4               0.2\n",
       "2                4.7               3.2                1.3               0.2\n",
       "3                4.6               3.1                1.5               0.2\n",
       "4                5.0               3.6                1.4               0.2"
      ]
     },
     "execution_count": 5,
     "metadata": {},
     "output_type": "execute_result"
    }
   ],
   "source": [
    "data = iris.data\n",
    "label = iris.target\n",
    "columns = iris.feature_names\n",
    "df = pd.DataFrame(data, columns = columns)\n",
    "df.head()"
   ]
  },
  {
   "cell_type": "code",
   "execution_count": 6,
   "metadata": {},
   "outputs": [],
   "source": [
    "from sklearn.model_selection import train_test_split\n",
    "x_train, x_test, y_train, y_test = train_test_split(data,label, test_size=0.2, shuffle=True, stratify=label, random_state=2019)"
   ]
  },
  {
   "cell_type": "code",
   "execution_count": 7,
   "metadata": {},
   "outputs": [],
   "source": [
    "from sklearn.linear_model import LogisticRegression\n",
    "lr = LogisticRegression(verbose=1)"
   ]
  },
  {
   "cell_type": "markdown",
   "metadata": {},
   "source": [
    "#### -모델 학습"
   ]
  },
  {
   "cell_type": "code",
   "execution_count": 8,
   "metadata": {},
   "outputs": [
    {
     "name": "stderr",
     "output_type": "stream",
     "text": [
      "[Parallel(n_jobs=1)]: Using backend SequentialBackend with 1 concurrent workers.\n",
      "[Parallel(n_jobs=1)]: Done   1 out of   1 | elapsed:    0.2s finished\n"
     ]
    },
    {
     "data": {
      "text/plain": [
       "LogisticRegression(verbose=1)"
      ]
     },
     "execution_count": 8,
     "metadata": {},
     "output_type": "execute_result"
    }
   ],
   "source": [
    "lr.fit(x_train, y_train)"
   ]
  },
  {
   "cell_type": "markdown",
   "metadata": {},
   "source": [
    "#### - 학습한 결과를 저장"
   ]
  },
  {
   "cell_type": "code",
   "execution_count": 26,
   "metadata": {},
   "outputs": [
    {
     "data": {
      "text/plain": [
       "['model/iris_lr.pkl']"
      ]
     },
     "execution_count": 26,
     "metadata": {},
     "output_type": "execute_result"
    }
   ],
   "source": [
    "joblib.dump(lr, 'model/iris_lr.pkl')"
   ]
  },
  {
   "cell_type": "code",
   "execution_count": 52,
   "metadata": {},
   "outputs": [
    {
     "data": {
      "text/plain": [
       "['model/iris_svm.pkl']"
      ]
     },
     "execution_count": 52,
     "metadata": {},
     "output_type": "execute_result"
    }
   ],
   "source": [
    "import joblib\n",
    "joblib.dump(svc, 'model/iris_svm.pkl')"
   ]
  },
  {
   "cell_type": "markdown",
   "metadata": {},
   "source": [
    "### Support Vector Machine"
   ]
  },
  {
   "cell_type": "code",
   "execution_count": 50,
   "metadata": {},
   "outputs": [],
   "source": [
    "from sklearn.svm import SVC\n",
    "svc = SVC()"
   ]
  },
  {
   "cell_type": "code",
   "execution_count": 51,
   "metadata": {},
   "outputs": [],
   "source": [
    "# 이걸 꼭 외워라 조승기야\n",
    "svc = SVC()\n",
    "svc.fit(x_train, y_train)\n",
    "y_pred_svc = svc.predict(x_test)\n",
    "# accuracy_score(y_test,y_pred_svc)"
   ]
  },
  {
   "cell_type": "markdown",
   "metadata": {},
   "source": [
    "### Decision Tree"
   ]
  },
  {
   "cell_type": "code",
   "execution_count": 30,
   "metadata": {},
   "outputs": [],
   "source": [
    "# 이걸 꼭 외워라 조승기야\n",
    "from sklearn.tree import DecisionTreeClassifier"
   ]
  },
  {
   "cell_type": "code",
   "execution_count": 31,
   "metadata": {},
   "outputs": [
    {
     "data": {
      "text/plain": [
       "['model/iris_dt.pkl']"
      ]
     },
     "execution_count": 31,
     "metadata": {},
     "output_type": "execute_result"
    }
   ],
   "source": [
    "joblib.dump(dtc, 'model/iris_dt.pkl')"
   ]
  },
  {
   "cell_type": "code",
   "execution_count": 53,
   "metadata": {},
   "outputs": [],
   "source": [
    "model_lr = joblib.load('model/iris_lr.pkl')\n",
    "model_svm = joblib.load('model/iris_svm.pkl')\n",
    "model_dt = joblib.load('model/iris_dt.pkl')"
   ]
  },
  {
   "cell_type": "code",
   "execution_count": 20,
   "metadata": {},
   "outputs": [],
   "source": [
    "dtc = DecisionTreeClassifier()\n",
    "dtc.fit(x_train, y_train)\n",
    "y_pred_dtc = dtc.predict(x_test)\n",
    "# accuracy_score(y_test, y_pred_dtc)"
   ]
  },
  {
   "cell_type": "code",
   "execution_count": 45,
   "metadata": {},
   "outputs": [],
   "source": [
    "from sklearn.metrics import accuracy_score"
   ]
  },
  {
   "cell_type": "code",
   "execution_count": 54,
   "metadata": {},
   "outputs": [],
   "source": [
    "y_pred_lr = model_lr.predict(x_test)\n",
    "y_pred_svm = model_svm.predict(x_test)\n",
    "y_pred_dt = model_dt.predict(x_test)"
   ]
  },
  {
   "cell_type": "code",
   "execution_count": 55,
   "metadata": {},
   "outputs": [
    {
     "name": "stdout",
     "output_type": "stream",
     "text": [
      "0.9666666666666667 0.9666666666666667 0.9666666666666667\n"
     ]
    }
   ],
   "source": [
    "acc_lr = accuracy_score(y_test, y_pred_lr)\n",
    "acc_svm = accuracy_score(y_test, y_pred_svm)\n",
    "acc_dt = accuracy_score(y_test, y_pred_dt)\n",
    "print(acc_lr, acc_svm, acc_dt)"
   ]
  },
  {
   "cell_type": "code",
   "execution_count": 60,
   "metadata": {},
   "outputs": [
    {
     "data": {
      "text/html": [
       "<div>\n",
       "<style scoped>\n",
       "    .dataframe tbody tr th:only-of-type {\n",
       "        vertical-align: middle;\n",
       "    }\n",
       "\n",
       "    .dataframe tbody tr th {\n",
       "        vertical-align: top;\n",
       "    }\n",
       "\n",
       "    .dataframe thead th {\n",
       "        text-align: right;\n",
       "    }\n",
       "</style>\n",
       "<table border=\"1\" class=\"dataframe\">\n",
       "  <thead>\n",
       "    <tr style=\"text-align: right;\">\n",
       "      <th></th>\n",
       "      <th>sepal length (cm)</th>\n",
       "      <th>sepal width (cm)</th>\n",
       "      <th>petal length (cm)</th>\n",
       "      <th>petal width (cm)</th>\n",
       "    </tr>\n",
       "  </thead>\n",
       "  <tbody>\n",
       "    <tr>\n",
       "      <th>145</th>\n",
       "      <td>6.7</td>\n",
       "      <td>3.0</td>\n",
       "      <td>5.2</td>\n",
       "      <td>2.3</td>\n",
       "    </tr>\n",
       "    <tr>\n",
       "      <th>146</th>\n",
       "      <td>6.3</td>\n",
       "      <td>2.5</td>\n",
       "      <td>5.0</td>\n",
       "      <td>1.9</td>\n",
       "    </tr>\n",
       "    <tr>\n",
       "      <th>147</th>\n",
       "      <td>6.5</td>\n",
       "      <td>3.0</td>\n",
       "      <td>5.2</td>\n",
       "      <td>2.0</td>\n",
       "    </tr>\n",
       "    <tr>\n",
       "      <th>148</th>\n",
       "      <td>6.2</td>\n",
       "      <td>3.4</td>\n",
       "      <td>5.4</td>\n",
       "      <td>2.3</td>\n",
       "    </tr>\n",
       "    <tr>\n",
       "      <th>149</th>\n",
       "      <td>5.9</td>\n",
       "      <td>3.0</td>\n",
       "      <td>5.1</td>\n",
       "      <td>1.8</td>\n",
       "    </tr>\n",
       "  </tbody>\n",
       "</table>\n",
       "</div>"
      ],
      "text/plain": [
       "     sepal length (cm)  sepal width (cm)  petal length (cm)  petal width (cm)\n",
       "145                6.7               3.0                5.2               2.3\n",
       "146                6.3               2.5                5.0               1.9\n",
       "147                6.5               3.0                5.2               2.0\n",
       "148                6.2               3.4                5.4               2.3\n",
       "149                5.9               3.0                5.1               1.8"
      ]
     },
     "execution_count": 60,
     "metadata": {},
     "output_type": "execute_result"
    }
   ],
   "source": [
    "df.tail()"
   ]
  },
  {
   "cell_type": "code",
   "execution_count": 69,
   "metadata": {},
   "outputs": [],
   "source": [
    "test_data = np.array([6.7, 3.0, 5.2, 2.3]).reshape(1,4)"
   ]
  },
  {
   "cell_type": "code",
   "execution_count": 70,
   "metadata": {},
   "outputs": [],
   "source": [
    "index_lr = model_lr.predict(test_data)[0]\n",
    "index_svm = model_svm.predict(test_data)[0]\n",
    "index_dt = model_dt.predict(test_data)[0]"
   ]
  },
  {
   "cell_type": "code",
   "execution_count": 72,
   "metadata": {},
   "outputs": [
    {
     "name": "stdout",
     "output_type": "stream",
     "text": [
      "Virginice Virginice Virginice\n"
     ]
    }
   ],
   "source": [
    "sp_names = ['Setosa', 'Versicolor', 'Virginice']\n",
    "print(sp_names[index_lr], sp_names[index_svm], sp_names[index_dt])"
   ]
  },
  {
   "cell_type": "markdown",
   "metadata": {},
   "source": [
    "## Deep Learning Model"
   ]
  },
  {
   "cell_type": "code",
   "execution_count": 78,
   "metadata": {},
   "outputs": [
    {
     "name": "stdout",
     "output_type": "stream",
     "text": [
      "Model: \"sequential_1\"\n",
      "_________________________________________________________________\n",
      "Layer (type)                 Output Shape              Param #   \n",
      "=================================================================\n",
      "dense_1 (Dense)              (None, 12)                60        \n",
      "_________________________________________________________________\n",
      "dense_2 (Dense)              (None, 8)                 104       \n",
      "_________________________________________________________________\n",
      "dense_3 (Dense)              (None, 3)                 27        \n",
      "=================================================================\n",
      "Total params: 191\n",
      "Trainable params: 191\n",
      "Non-trainable params: 0\n",
      "_________________________________________________________________\n"
     ]
    }
   ],
   "source": [
    "from tensorflow import keras\n",
    "from keras.models import Sequential\n",
    "from keras.layers import Dense\n",
    "\n",
    "model = Sequential([\n",
    "    Dense(12, input_shape=(4,), activation = 'relu'),\n",
    "    Dense(8, input_shape=(4,), activation = 'relu'),\n",
    "    Dense(3, activation='softmax')\n",
    "])\n",
    "\n",
    "model.summary()"
   ]
  },
  {
   "cell_type": "code",
   "execution_count": 82,
   "metadata": {},
   "outputs": [],
   "source": [
    "model.compile(loss='categorical_crossentropy',\n",
    "             optimizer='adam',\n",
    "             metrics=['accuracy'])"
   ]
  },
  {
   "cell_type": "code",
   "execution_count": 83,
   "metadata": {},
   "outputs": [],
   "source": [
    "from keras.callbacks import ModelCheckpoint\n",
    "checkpointer = ModelCheckpoint(filepath='model/iris_deep.hdf5',\n",
    "                              monitor='val_loss',\n",
    "                              verbose=1, save_best_only = True)"
   ]
  },
  {
   "cell_type": "code",
   "execution_count": 90,
   "metadata": {},
   "outputs": [],
   "source": [
    "y_encoded = keras.utils.to_categorical(y_train)"
   ]
  },
  {
   "cell_type": "code",
   "execution_count": 92,
   "metadata": {},
   "outputs": [
    {
     "name": "stdout",
     "output_type": "stream",
     "text": [
      "Train on 96 samples, validate on 24 samples\n",
      "Epoch 1/109\n",
      " - 1s - loss: 2.1833 - accuracy: 0.3438 - val_loss: 2.0848 - val_accuracy: 0.2917\n",
      "\n",
      "Epoch 00001: val_loss improved from inf to 2.08484, saving model to model/iris_deep.hdf5\n",
      "Epoch 2/109\n",
      " - 0s - loss: 2.0331 - accuracy: 0.3438 - val_loss: 1.9516 - val_accuracy: 0.2917\n",
      "\n",
      "Epoch 00002: val_loss improved from 2.08484 to 1.95160, saving model to model/iris_deep.hdf5\n",
      "Epoch 3/109\n",
      " - 0s - loss: 1.8953 - accuracy: 0.3438 - val_loss: 1.8314 - val_accuracy: 0.2917\n",
      "\n",
      "Epoch 00003: val_loss improved from 1.95160 to 1.83138, saving model to model/iris_deep.hdf5\n",
      "Epoch 4/109\n",
      " - 0s - loss: 1.7653 - accuracy: 0.3438 - val_loss: 1.7212 - val_accuracy: 0.2917\n",
      "\n",
      "Epoch 00004: val_loss improved from 1.83138 to 1.72119, saving model to model/iris_deep.hdf5\n",
      "Epoch 5/109\n",
      " - 0s - loss: 1.6532 - accuracy: 0.3438 - val_loss: 1.6191 - val_accuracy: 0.2917\n",
      "\n",
      "Epoch 00005: val_loss improved from 1.72119 to 1.61909, saving model to model/iris_deep.hdf5\n",
      "Epoch 6/109\n",
      " - 0s - loss: 1.5513 - accuracy: 0.3438 - val_loss: 1.5257 - val_accuracy: 0.2917\n",
      "\n",
      "Epoch 00006: val_loss improved from 1.61909 to 1.52568, saving model to model/iris_deep.hdf5\n",
      "Epoch 7/109\n",
      " - 0s - loss: 1.4545 - accuracy: 0.3438 - val_loss: 1.4427 - val_accuracy: 0.2917\n",
      "\n",
      "Epoch 00007: val_loss improved from 1.52568 to 1.44266, saving model to model/iris_deep.hdf5\n",
      "Epoch 8/109\n",
      " - 0s - loss: 1.3679 - accuracy: 0.3438 - val_loss: 1.3667 - val_accuracy: 0.2917\n",
      "\n",
      "Epoch 00008: val_loss improved from 1.44266 to 1.36673, saving model to model/iris_deep.hdf5\n",
      "Epoch 9/109\n",
      " - 0s - loss: 1.2869 - accuracy: 0.3438 - val_loss: 1.2967 - val_accuracy: 0.2917\n",
      "\n",
      "Epoch 00009: val_loss improved from 1.36673 to 1.29667, saving model to model/iris_deep.hdf5\n",
      "Epoch 10/109\n",
      " - 0s - loss: 1.2160 - accuracy: 0.3438 - val_loss: 1.2335 - val_accuracy: 0.2917\n",
      "\n",
      "Epoch 00010: val_loss improved from 1.29667 to 1.23346, saving model to model/iris_deep.hdf5\n",
      "Epoch 11/109\n",
      " - 0s - loss: 1.1517 - accuracy: 0.3438 - val_loss: 1.1790 - val_accuracy: 0.2917\n",
      "\n",
      "Epoch 00011: val_loss improved from 1.23346 to 1.17900, saving model to model/iris_deep.hdf5\n",
      "Epoch 12/109\n",
      " - 0s - loss: 1.0952 - accuracy: 0.3438 - val_loss: 1.1350 - val_accuracy: 0.2917\n",
      "\n",
      "Epoch 00012: val_loss improved from 1.17900 to 1.13500, saving model to model/iris_deep.hdf5\n",
      "Epoch 13/109\n",
      " - 0s - loss: 1.0451 - accuracy: 0.3438 - val_loss: 1.1001 - val_accuracy: 0.2917\n",
      "\n",
      "Epoch 00013: val_loss improved from 1.13500 to 1.10006, saving model to model/iris_deep.hdf5\n",
      "Epoch 14/109\n",
      " - 0s - loss: 1.0078 - accuracy: 0.4167 - val_loss: 1.0721 - val_accuracy: 0.4583\n",
      "\n",
      "Epoch 00014: val_loss improved from 1.10006 to 1.07212, saving model to model/iris_deep.hdf5\n",
      "Epoch 15/109\n",
      " - 0s - loss: 0.9755 - accuracy: 0.5104 - val_loss: 1.0518 - val_accuracy: 0.5833\n",
      "\n",
      "Epoch 00015: val_loss improved from 1.07212 to 1.05180, saving model to model/iris_deep.hdf5\n",
      "Epoch 16/109\n",
      " - 0s - loss: 0.9537 - accuracy: 0.6146 - val_loss: 1.0366 - val_accuracy: 0.5833\n",
      "\n",
      "Epoch 00016: val_loss improved from 1.05180 to 1.03662, saving model to model/iris_deep.hdf5\n",
      "Epoch 17/109\n",
      " - 0s - loss: 0.9363 - accuracy: 0.6667 - val_loss: 1.0256 - val_accuracy: 0.5833\n",
      "\n",
      "Epoch 00017: val_loss improved from 1.03662 to 1.02557, saving model to model/iris_deep.hdf5\n",
      "Epoch 18/109\n",
      " - 0s - loss: 0.9234 - accuracy: 0.6771 - val_loss: 1.0159 - val_accuracy: 0.5833\n",
      "\n",
      "Epoch 00018: val_loss improved from 1.02557 to 1.01593, saving model to model/iris_deep.hdf5\n",
      "Epoch 19/109\n",
      " - 0s - loss: 0.9123 - accuracy: 0.6771 - val_loss: 1.0064 - val_accuracy: 0.5833\n",
      "\n",
      "Epoch 00019: val_loss improved from 1.01593 to 1.00640, saving model to model/iris_deep.hdf5\n",
      "Epoch 20/109\n",
      " - 0s - loss: 0.9024 - accuracy: 0.6875 - val_loss: 0.9960 - val_accuracy: 0.5833\n",
      "\n",
      "Epoch 00020: val_loss improved from 1.00640 to 0.99596, saving model to model/iris_deep.hdf5\n",
      "Epoch 21/109\n",
      " - 0s - loss: 0.8926 - accuracy: 0.6875 - val_loss: 0.9855 - val_accuracy: 0.5833\n",
      "\n",
      "Epoch 00021: val_loss improved from 0.99596 to 0.98551, saving model to model/iris_deep.hdf5\n",
      "Epoch 22/109\n",
      " - 0s - loss: 0.8832 - accuracy: 0.6875 - val_loss: 0.9758 - val_accuracy: 0.5833\n",
      "\n",
      "Epoch 00022: val_loss improved from 0.98551 to 0.97579, saving model to model/iris_deep.hdf5\n",
      "Epoch 23/109\n",
      " - 0s - loss: 0.8739 - accuracy: 0.6875 - val_loss: 0.9661 - val_accuracy: 0.5833\n",
      "\n",
      "Epoch 00023: val_loss improved from 0.97579 to 0.96610, saving model to model/iris_deep.hdf5\n",
      "Epoch 24/109\n",
      " - 0s - loss: 0.8654 - accuracy: 0.6875 - val_loss: 0.9565 - val_accuracy: 0.5833\n",
      "\n",
      "Epoch 00024: val_loss improved from 0.96610 to 0.95650, saving model to model/iris_deep.hdf5\n",
      "Epoch 25/109\n",
      " - 0s - loss: 0.8566 - accuracy: 0.6875 - val_loss: 0.9469 - val_accuracy: 0.5833\n",
      "\n",
      "Epoch 00025: val_loss improved from 0.95650 to 0.94691, saving model to model/iris_deep.hdf5\n",
      "Epoch 26/109\n",
      " - 0s - loss: 0.8480 - accuracy: 0.6875 - val_loss: 0.9382 - val_accuracy: 0.5833\n",
      "\n",
      "Epoch 00026: val_loss improved from 0.94691 to 0.93818, saving model to model/iris_deep.hdf5\n",
      "Epoch 27/109\n",
      " - 0s - loss: 0.8398 - accuracy: 0.6875 - val_loss: 0.9299 - val_accuracy: 0.5833\n",
      "\n",
      "Epoch 00027: val_loss improved from 0.93818 to 0.92994, saving model to model/iris_deep.hdf5\n",
      "Epoch 28/109\n",
      " - 0s - loss: 0.8316 - accuracy: 0.6875 - val_loss: 0.9211 - val_accuracy: 0.5833\n",
      "\n",
      "Epoch 00028: val_loss improved from 0.92994 to 0.92112, saving model to model/iris_deep.hdf5\n",
      "Epoch 29/109\n",
      " - 0s - loss: 0.8234 - accuracy: 0.6875 - val_loss: 0.9125 - val_accuracy: 0.5833\n",
      "\n",
      "Epoch 00029: val_loss improved from 0.92112 to 0.91249, saving model to model/iris_deep.hdf5\n",
      "Epoch 30/109\n",
      " - 0s - loss: 0.8151 - accuracy: 0.6875 - val_loss: 0.9037 - val_accuracy: 0.5833\n",
      "\n",
      "Epoch 00030: val_loss improved from 0.91249 to 0.90373, saving model to model/iris_deep.hdf5\n",
      "Epoch 31/109\n",
      " - 0s - loss: 0.8072 - accuracy: 0.6875 - val_loss: 0.8950 - val_accuracy: 0.5833\n",
      "\n",
      "Epoch 00031: val_loss improved from 0.90373 to 0.89501, saving model to model/iris_deep.hdf5\n",
      "Epoch 32/109\n",
      " - 0s - loss: 0.7995 - accuracy: 0.6875 - val_loss: 0.8859 - val_accuracy: 0.5833\n",
      "\n",
      "Epoch 00032: val_loss improved from 0.89501 to 0.88589, saving model to model/iris_deep.hdf5\n",
      "Epoch 33/109\n",
      " - 0s - loss: 0.7917 - accuracy: 0.6875 - val_loss: 0.8777 - val_accuracy: 0.5833\n",
      "\n",
      "Epoch 00033: val_loss improved from 0.88589 to 0.87771, saving model to model/iris_deep.hdf5\n",
      "Epoch 34/109\n",
      " - 0s - loss: 0.7842 - accuracy: 0.6875 - val_loss: 0.8700 - val_accuracy: 0.5833\n",
      "\n",
      "Epoch 00034: val_loss improved from 0.87771 to 0.86996, saving model to model/iris_deep.hdf5\n",
      "Epoch 35/109\n",
      " - 0s - loss: 0.7765 - accuracy: 0.6875 - val_loss: 0.8629 - val_accuracy: 0.5833\n",
      "\n",
      "Epoch 00035: val_loss improved from 0.86996 to 0.86289, saving model to model/iris_deep.hdf5\n",
      "Epoch 36/109\n",
      " - 0s - loss: 0.7692 - accuracy: 0.6875 - val_loss: 0.8557 - val_accuracy: 0.5833\n",
      "\n",
      "Epoch 00036: val_loss improved from 0.86289 to 0.85565, saving model to model/iris_deep.hdf5\n",
      "Epoch 37/109\n",
      " - 0s - loss: 0.7620 - accuracy: 0.6875 - val_loss: 0.8483 - val_accuracy: 0.5833\n",
      "\n",
      "Epoch 00037: val_loss improved from 0.85565 to 0.84835, saving model to model/iris_deep.hdf5\n",
      "Epoch 38/109\n",
      " - 0s - loss: 0.7551 - accuracy: 0.6875 - val_loss: 0.8408 - val_accuracy: 0.5833\n",
      "\n",
      "Epoch 00038: val_loss improved from 0.84835 to 0.84076, saving model to model/iris_deep.hdf5\n",
      "Epoch 39/109\n",
      " - 0s - loss: 0.7478 - accuracy: 0.6875 - val_loss: 0.8334 - val_accuracy: 0.5833\n",
      "\n",
      "Epoch 00039: val_loss improved from 0.84076 to 0.83343, saving model to model/iris_deep.hdf5\n",
      "Epoch 40/109\n",
      " - 0s - loss: 0.7413 - accuracy: 0.6875 - val_loss: 0.8261 - val_accuracy: 0.5833\n",
      "\n",
      "Epoch 00040: val_loss improved from 0.83343 to 0.82612, saving model to model/iris_deep.hdf5\n",
      "Epoch 41/109\n",
      " - 0s - loss: 0.7349 - accuracy: 0.6875 - val_loss: 0.8192 - val_accuracy: 0.5833\n",
      "\n",
      "Epoch 00041: val_loss improved from 0.82612 to 0.81919, saving model to model/iris_deep.hdf5\n",
      "Epoch 42/109\n",
      " - 0s - loss: 0.7289 - accuracy: 0.6875 - val_loss: 0.8130 - val_accuracy: 0.5833\n",
      "\n",
      "Epoch 00042: val_loss improved from 0.81919 to 0.81301, saving model to model/iris_deep.hdf5\n",
      "Epoch 43/109\n",
      " - 0s - loss: 0.7233 - accuracy: 0.6875 - val_loss: 0.8069 - val_accuracy: 0.5833\n",
      "\n",
      "Epoch 00043: val_loss improved from 0.81301 to 0.80686, saving model to model/iris_deep.hdf5\n",
      "Epoch 44/109\n",
      " - 0s - loss: 0.7179 - accuracy: 0.6875 - val_loss: 0.8008 - val_accuracy: 0.5833\n"
     ]
    },
    {
     "name": "stdout",
     "output_type": "stream",
     "text": [
      "\n",
      "Epoch 00044: val_loss improved from 0.80686 to 0.80084, saving model to model/iris_deep.hdf5\n",
      "Epoch 45/109\n",
      " - 0s - loss: 0.7128 - accuracy: 0.6875 - val_loss: 0.7951 - val_accuracy: 0.5833\n",
      "\n",
      "Epoch 00045: val_loss improved from 0.80084 to 0.79509, saving model to model/iris_deep.hdf5\n",
      "Epoch 46/109\n",
      " - 0s - loss: 0.7071 - accuracy: 0.6875 - val_loss: 0.7897 - val_accuracy: 0.5833\n",
      "\n",
      "Epoch 00046: val_loss improved from 0.79509 to 0.78971, saving model to model/iris_deep.hdf5\n",
      "Epoch 47/109\n",
      " - 0s - loss: 0.7013 - accuracy: 0.6875 - val_loss: 0.7836 - val_accuracy: 0.5833\n",
      "\n",
      "Epoch 00047: val_loss improved from 0.78971 to 0.78355, saving model to model/iris_deep.hdf5\n",
      "Epoch 48/109\n",
      " - 0s - loss: 0.6948 - accuracy: 0.6875 - val_loss: 0.7768 - val_accuracy: 0.5833\n",
      "\n",
      "Epoch 00048: val_loss improved from 0.78355 to 0.77681, saving model to model/iris_deep.hdf5\n",
      "Epoch 49/109\n",
      " - 0s - loss: 0.6884 - accuracy: 0.6875 - val_loss: 0.7699 - val_accuracy: 0.5833\n",
      "\n",
      "Epoch 00049: val_loss improved from 0.77681 to 0.76986, saving model to model/iris_deep.hdf5\n",
      "Epoch 50/109\n",
      " - 0s - loss: 0.6818 - accuracy: 0.6875 - val_loss: 0.7628 - val_accuracy: 0.5833\n",
      "\n",
      "Epoch 00050: val_loss improved from 0.76986 to 0.76282, saving model to model/iris_deep.hdf5\n",
      "Epoch 51/109\n",
      " - 0s - loss: 0.6753 - accuracy: 0.6875 - val_loss: 0.7561 - val_accuracy: 0.5833\n",
      "\n",
      "Epoch 00051: val_loss improved from 0.76282 to 0.75614, saving model to model/iris_deep.hdf5\n",
      "Epoch 52/109\n",
      " - 0s - loss: 0.6694 - accuracy: 0.6875 - val_loss: 0.7503 - val_accuracy: 0.5833\n",
      "\n",
      "Epoch 00052: val_loss improved from 0.75614 to 0.75030, saving model to model/iris_deep.hdf5\n",
      "Epoch 53/109\n",
      " - 0s - loss: 0.6641 - accuracy: 0.6875 - val_loss: 0.7454 - val_accuracy: 0.5833\n",
      "\n",
      "Epoch 00053: val_loss improved from 0.75030 to 0.74542, saving model to model/iris_deep.hdf5\n",
      "Epoch 54/109\n",
      " - 0s - loss: 0.6585 - accuracy: 0.6875 - val_loss: 0.7405 - val_accuracy: 0.5833\n",
      "\n",
      "Epoch 00054: val_loss improved from 0.74542 to 0.74046, saving model to model/iris_deep.hdf5\n",
      "Epoch 55/109\n",
      " - 0s - loss: 0.6530 - accuracy: 0.6875 - val_loss: 0.7358 - val_accuracy: 0.5833\n",
      "\n",
      "Epoch 00055: val_loss improved from 0.74046 to 0.73580, saving model to model/iris_deep.hdf5\n",
      "Epoch 56/109\n",
      " - 0s - loss: 0.6475 - accuracy: 0.6875 - val_loss: 0.7315 - val_accuracy: 0.5833\n",
      "\n",
      "Epoch 00056: val_loss improved from 0.73580 to 0.73146, saving model to model/iris_deep.hdf5\n",
      "Epoch 57/109\n",
      " - 0s - loss: 0.6428 - accuracy: 0.6875 - val_loss: 0.7271 - val_accuracy: 0.5833\n",
      "\n",
      "Epoch 00057: val_loss improved from 0.73146 to 0.72713, saving model to model/iris_deep.hdf5\n",
      "Epoch 58/109\n",
      " - 0s - loss: 0.6381 - accuracy: 0.6875 - val_loss: 0.7227 - val_accuracy: 0.5833\n",
      "\n",
      "Epoch 00058: val_loss improved from 0.72713 to 0.72268, saving model to model/iris_deep.hdf5\n",
      "Epoch 59/109\n",
      " - 0s - loss: 0.6334 - accuracy: 0.6875 - val_loss: 0.7176 - val_accuracy: 0.5833\n",
      "\n",
      "Epoch 00059: val_loss improved from 0.72268 to 0.71760, saving model to model/iris_deep.hdf5\n",
      "Epoch 60/109\n",
      " - 0s - loss: 0.6287 - accuracy: 0.6875 - val_loss: 0.7125 - val_accuracy: 0.5833\n",
      "\n",
      "Epoch 00060: val_loss improved from 0.71760 to 0.71253, saving model to model/iris_deep.hdf5\n",
      "Epoch 61/109\n",
      " - 0s - loss: 0.6242 - accuracy: 0.6875 - val_loss: 0.7076 - val_accuracy: 0.5833\n",
      "\n",
      "Epoch 00061: val_loss improved from 0.71253 to 0.70761, saving model to model/iris_deep.hdf5\n",
      "Epoch 62/109\n",
      " - 0s - loss: 0.6198 - accuracy: 0.6875 - val_loss: 0.7026 - val_accuracy: 0.5833\n",
      "\n",
      "Epoch 00062: val_loss improved from 0.70761 to 0.70257, saving model to model/iris_deep.hdf5\n",
      "Epoch 63/109\n",
      " - 0s - loss: 0.6153 - accuracy: 0.6875 - val_loss: 0.6972 - val_accuracy: 0.5833\n",
      "\n",
      "Epoch 00063: val_loss improved from 0.70257 to 0.69723, saving model to model/iris_deep.hdf5\n",
      "Epoch 64/109\n",
      " - 0s - loss: 0.6105 - accuracy: 0.6875 - val_loss: 0.6923 - val_accuracy: 0.5833\n",
      "\n",
      "Epoch 00064: val_loss improved from 0.69723 to 0.69228, saving model to model/iris_deep.hdf5\n",
      "Epoch 65/109\n",
      " - 0s - loss: 0.6056 - accuracy: 0.6875 - val_loss: 0.6868 - val_accuracy: 0.5833\n",
      "\n",
      "Epoch 00065: val_loss improved from 0.69228 to 0.68682, saving model to model/iris_deep.hdf5\n",
      "Epoch 66/109\n",
      " - 0s - loss: 0.6008 - accuracy: 0.6875 - val_loss: 0.6786 - val_accuracy: 0.5833\n",
      "\n",
      "Epoch 00066: val_loss improved from 0.68682 to 0.67859, saving model to model/iris_deep.hdf5\n",
      "Epoch 67/109\n",
      " - 0s - loss: 0.5939 - accuracy: 0.6875 - val_loss: 0.6662 - val_accuracy: 0.5833\n",
      "\n",
      "Epoch 00067: val_loss improved from 0.67859 to 0.66619, saving model to model/iris_deep.hdf5\n",
      "Epoch 68/109\n",
      " - 0s - loss: 0.5825 - accuracy: 0.6875 - val_loss: 0.6619 - val_accuracy: 0.5833\n",
      "\n",
      "Epoch 00068: val_loss improved from 0.66619 to 0.66186, saving model to model/iris_deep.hdf5\n",
      "Epoch 69/109\n",
      " - 0s - loss: 0.5795 - accuracy: 0.6875 - val_loss: 0.6574 - val_accuracy: 0.5833\n",
      "\n",
      "Epoch 00069: val_loss improved from 0.66186 to 0.65741, saving model to model/iris_deep.hdf5\n",
      "Epoch 70/109\n",
      " - 0s - loss: 0.5741 - accuracy: 0.6875 - val_loss: 0.6465 - val_accuracy: 0.5833\n",
      "\n",
      "Epoch 00070: val_loss improved from 0.65741 to 0.64654, saving model to model/iris_deep.hdf5\n",
      "Epoch 71/109\n",
      " - 0s - loss: 0.5671 - accuracy: 0.6875 - val_loss: 0.6386 - val_accuracy: 0.5833\n",
      "\n",
      "Epoch 00071: val_loss improved from 0.64654 to 0.63856, saving model to model/iris_deep.hdf5\n",
      "Epoch 72/109\n",
      " - 0s - loss: 0.5625 - accuracy: 0.6875 - val_loss: 0.6328 - val_accuracy: 0.5833\n",
      "\n",
      "Epoch 00072: val_loss improved from 0.63856 to 0.63277, saving model to model/iris_deep.hdf5\n",
      "Epoch 73/109\n",
      " - 0s - loss: 0.5566 - accuracy: 0.6875 - val_loss: 0.6266 - val_accuracy: 0.5833\n",
      "\n",
      "Epoch 00073: val_loss improved from 0.63277 to 0.62659, saving model to model/iris_deep.hdf5\n",
      "Epoch 74/109\n",
      " - 0s - loss: 0.5506 - accuracy: 0.6875 - val_loss: 0.6209 - val_accuracy: 0.5833\n",
      "\n",
      "Epoch 00074: val_loss improved from 0.62659 to 0.62094, saving model to model/iris_deep.hdf5\n",
      "Epoch 75/109\n",
      " - 0s - loss: 0.5454 - accuracy: 0.6875 - val_loss: 0.6127 - val_accuracy: 0.5833\n",
      "\n",
      "Epoch 00075: val_loss improved from 0.62094 to 0.61272, saving model to model/iris_deep.hdf5\n",
      "Epoch 76/109\n",
      " - 0s - loss: 0.5408 - accuracy: 0.6875 - val_loss: 0.6052 - val_accuracy: 0.5833\n",
      "\n",
      "Epoch 00076: val_loss improved from 0.61272 to 0.60519, saving model to model/iris_deep.hdf5\n",
      "Epoch 77/109\n",
      " - 0s - loss: 0.5358 - accuracy: 0.6875 - val_loss: 0.5988 - val_accuracy: 0.5833\n",
      "\n",
      "Epoch 00077: val_loss improved from 0.60519 to 0.59879, saving model to model/iris_deep.hdf5\n",
      "Epoch 78/109\n",
      " - 0s - loss: 0.5303 - accuracy: 0.6875 - val_loss: 0.5924 - val_accuracy: 0.5833\n",
      "\n",
      "Epoch 00078: val_loss improved from 0.59879 to 0.59242, saving model to model/iris_deep.hdf5\n",
      "Epoch 79/109\n",
      " - 0s - loss: 0.5250 - accuracy: 0.6875 - val_loss: 0.5875 - val_accuracy: 0.5833\n",
      "\n",
      "Epoch 00079: val_loss improved from 0.59242 to 0.58755, saving model to model/iris_deep.hdf5\n",
      "Epoch 80/109\n",
      " - 0s - loss: 0.5211 - accuracy: 0.6875 - val_loss: 0.5849 - val_accuracy: 0.5833\n",
      "\n",
      "Epoch 00080: val_loss improved from 0.58755 to 0.58490, saving model to model/iris_deep.hdf5\n",
      "Epoch 81/109\n",
      " - 0s - loss: 0.5166 - accuracy: 0.6875 - val_loss: 0.5781 - val_accuracy: 0.5833\n",
      "\n",
      "Epoch 00081: val_loss improved from 0.58490 to 0.57813, saving model to model/iris_deep.hdf5\n",
      "Epoch 82/109\n",
      " - 0s - loss: 0.5108 - accuracy: 0.6875 - val_loss: 0.5699 - val_accuracy: 0.5833\n",
      "\n",
      "Epoch 00082: val_loss improved from 0.57813 to 0.56986, saving model to model/iris_deep.hdf5\n",
      "Epoch 83/109\n",
      " - 0s - loss: 0.5053 - accuracy: 0.6875 - val_loss: 0.5618 - val_accuracy: 0.5833\n",
      "\n",
      "Epoch 00083: val_loss improved from 0.56986 to 0.56183, saving model to model/iris_deep.hdf5\n",
      "Epoch 84/109\n",
      " - 0s - loss: 0.5000 - accuracy: 0.6875 - val_loss: 0.5547 - val_accuracy: 0.5833\n",
      "\n",
      "Epoch 00084: val_loss improved from 0.56183 to 0.55465, saving model to model/iris_deep.hdf5\n",
      "Epoch 85/109\n",
      " - 0s - loss: 0.4956 - accuracy: 0.6875 - val_loss: 0.5472 - val_accuracy: 0.5833\n",
      "\n",
      "Epoch 00085: val_loss improved from 0.55465 to 0.54719, saving model to model/iris_deep.hdf5\n",
      "Epoch 86/109\n",
      " - 0s - loss: 0.4890 - accuracy: 0.6875 - val_loss: 0.5413 - val_accuracy: 0.5833\n",
      "\n",
      "Epoch 00086: val_loss improved from 0.54719 to 0.54126, saving model to model/iris_deep.hdf5\n",
      "Epoch 87/109\n",
      " - 0s - loss: 0.4836 - accuracy: 0.6875 - val_loss: 0.5399 - val_accuracy: 0.5833\n",
      "\n",
      "Epoch 00087: val_loss improved from 0.54126 to 0.53990, saving model to model/iris_deep.hdf5\n",
      "Epoch 88/109\n"
     ]
    },
    {
     "name": "stdout",
     "output_type": "stream",
     "text": [
      " - 0s - loss: 0.4802 - accuracy: 0.6875 - val_loss: 0.5332 - val_accuracy: 0.5833\n",
      "\n",
      "Epoch 00088: val_loss improved from 0.53990 to 0.53324, saving model to model/iris_deep.hdf5\n",
      "Epoch 89/109\n",
      " - 0s - loss: 0.4760 - accuracy: 0.6875 - val_loss: 0.5218 - val_accuracy: 0.5833\n",
      "\n",
      "Epoch 00089: val_loss improved from 0.53324 to 0.52178, saving model to model/iris_deep.hdf5\n",
      "Epoch 90/109\n",
      " - 0s - loss: 0.4673 - accuracy: 0.6875 - val_loss: 0.5165 - val_accuracy: 0.5833\n",
      "\n",
      "Epoch 00090: val_loss improved from 0.52178 to 0.51653, saving model to model/iris_deep.hdf5\n",
      "Epoch 91/109\n",
      " - 0s - loss: 0.4633 - accuracy: 0.6875 - val_loss: 0.5153 - val_accuracy: 0.5833\n",
      "\n",
      "Epoch 00091: val_loss improved from 0.51653 to 0.51527, saving model to model/iris_deep.hdf5\n",
      "Epoch 92/109\n",
      " - 0s - loss: 0.4607 - accuracy: 0.6875 - val_loss: 0.5088 - val_accuracy: 0.5833\n",
      "\n",
      "Epoch 00092: val_loss improved from 0.51527 to 0.50880, saving model to model/iris_deep.hdf5\n",
      "Epoch 93/109\n",
      " - 0s - loss: 0.4547 - accuracy: 0.6875 - val_loss: 0.4964 - val_accuracy: 0.5833\n",
      "\n",
      "Epoch 00093: val_loss improved from 0.50880 to 0.49640, saving model to model/iris_deep.hdf5\n",
      "Epoch 94/109\n",
      " - 0s - loss: 0.4471 - accuracy: 0.6875 - val_loss: 0.4858 - val_accuracy: 0.5833\n",
      "\n",
      "Epoch 00094: val_loss improved from 0.49640 to 0.48579, saving model to model/iris_deep.hdf5\n",
      "Epoch 95/109\n",
      " - 0s - loss: 0.4406 - accuracy: 0.6979 - val_loss: 0.4785 - val_accuracy: 0.6250\n",
      "\n",
      "Epoch 00095: val_loss improved from 0.48579 to 0.47848, saving model to model/iris_deep.hdf5\n",
      "Epoch 96/109\n",
      " - 0s - loss: 0.4357 - accuracy: 0.6979 - val_loss: 0.4721 - val_accuracy: 0.6667\n",
      "\n",
      "Epoch 00096: val_loss improved from 0.47848 to 0.47206, saving model to model/iris_deep.hdf5\n",
      "Epoch 97/109\n",
      " - 0s - loss: 0.4322 - accuracy: 0.6979 - val_loss: 0.4672 - val_accuracy: 0.7083\n",
      "\n",
      "Epoch 00097: val_loss improved from 0.47206 to 0.46725, saving model to model/iris_deep.hdf5\n",
      "Epoch 98/109\n",
      " - 0s - loss: 0.4263 - accuracy: 0.7188 - val_loss: 0.4594 - val_accuracy: 0.7500\n",
      "\n",
      "Epoch 00098: val_loss improved from 0.46725 to 0.45940, saving model to model/iris_deep.hdf5\n",
      "Epoch 99/109\n",
      " - 0s - loss: 0.4209 - accuracy: 0.7604 - val_loss: 0.4527 - val_accuracy: 0.8750\n",
      "\n",
      "Epoch 00099: val_loss improved from 0.45940 to 0.45269, saving model to model/iris_deep.hdf5\n",
      "Epoch 100/109\n",
      " - 0s - loss: 0.4152 - accuracy: 0.8333 - val_loss: 0.4458 - val_accuracy: 0.8750\n",
      "\n",
      "Epoch 00100: val_loss improved from 0.45269 to 0.44584, saving model to model/iris_deep.hdf5\n",
      "Epoch 101/109\n",
      " - 0s - loss: 0.4092 - accuracy: 0.8438 - val_loss: 0.4395 - val_accuracy: 0.8750\n",
      "\n",
      "Epoch 00101: val_loss improved from 0.44584 to 0.43948, saving model to model/iris_deep.hdf5\n",
      "Epoch 102/109\n",
      " - 0s - loss: 0.4044 - accuracy: 0.8542 - val_loss: 0.4320 - val_accuracy: 0.9167\n",
      "\n",
      "Epoch 00102: val_loss improved from 0.43948 to 0.43198, saving model to model/iris_deep.hdf5\n",
      "Epoch 103/109\n",
      " - 0s - loss: 0.3985 - accuracy: 0.8750 - val_loss: 0.4266 - val_accuracy: 0.9167\n",
      "\n",
      "Epoch 00103: val_loss improved from 0.43198 to 0.42656, saving model to model/iris_deep.hdf5\n",
      "Epoch 104/109\n",
      " - 0s - loss: 0.3940 - accuracy: 0.8542 - val_loss: 0.4236 - val_accuracy: 0.8750\n",
      "\n",
      "Epoch 00104: val_loss improved from 0.42656 to 0.42357, saving model to model/iris_deep.hdf5\n",
      "Epoch 105/109\n",
      " - 0s - loss: 0.3882 - accuracy: 0.8646 - val_loss: 0.4113 - val_accuracy: 0.9167\n",
      "\n",
      "Epoch 00105: val_loss improved from 0.42357 to 0.41131, saving model to model/iris_deep.hdf5\n",
      "Epoch 106/109\n",
      " - 0s - loss: 0.3832 - accuracy: 0.9062 - val_loss: 0.4028 - val_accuracy: 0.9583\n",
      "\n",
      "Epoch 00106: val_loss improved from 0.41131 to 0.40284, saving model to model/iris_deep.hdf5\n",
      "Epoch 107/109\n",
      " - 0s - loss: 0.3798 - accuracy: 0.9167 - val_loss: 0.3969 - val_accuracy: 0.9583\n",
      "\n",
      "Epoch 00107: val_loss improved from 0.40284 to 0.39686, saving model to model/iris_deep.hdf5\n",
      "Epoch 108/109\n",
      " - 0s - loss: 0.3735 - accuracy: 0.9062 - val_loss: 0.3922 - val_accuracy: 0.9583\n",
      "\n",
      "Epoch 00108: val_loss improved from 0.39686 to 0.39220, saving model to model/iris_deep.hdf5\n",
      "Epoch 109/109\n",
      " - 0s - loss: 0.3681 - accuracy: 0.9167 - val_loss: 0.3890 - val_accuracy: 0.9167\n",
      "\n",
      "Epoch 00109: val_loss improved from 0.39220 to 0.38898, saving model to model/iris_deep.hdf5\n"
     ]
    },
    {
     "data": {
      "text/plain": [
       "<keras.callbacks.callbacks.History at 0x1eefbd314c8>"
      ]
     },
     "execution_count": 92,
     "metadata": {},
     "output_type": "execute_result"
    }
   ],
   "source": [
    "model.fit(x_train, y_encoded, epochs=109, batch_size=30, verbose=2, \n",
    "          validation_split=0.2, callbacks = [checkpointer])"
   ]
  },
  {
   "cell_type": "code",
   "execution_count": 93,
   "metadata": {},
   "outputs": [],
   "source": [
    "from keras.models import load_model\n",
    "model_deep = load_model('model/iris_deep.hdf5')"
   ]
  },
  {
   "cell_type": "code",
   "execution_count": 94,
   "metadata": {},
   "outputs": [
    {
     "name": "stdout",
     "output_type": "stream",
     "text": [
      "\r",
      "30/30 [==============================] - 0s 33us/step\n"
     ]
    },
    {
     "data": {
      "text/plain": [
       "0.9333333373069763"
      ]
     },
     "execution_count": 94,
     "metadata": {},
     "output_type": "execute_result"
    }
   ],
   "source": [
    "model.evaluate(x_test, keras.utils.to_categorical(y_test))[1]"
   ]
  },
  {
   "cell_type": "code",
   "execution_count": 95,
   "metadata": {},
   "outputs": [
    {
     "data": {
      "text/plain": [
       "array([[0.05871138, 0.4409304 , 0.50035816]], dtype=float32)"
      ]
     },
     "execution_count": 95,
     "metadata": {},
     "output_type": "execute_result"
    }
   ],
   "source": [
    "model_deep.predict(test_data)"
   ]
  },
  {
   "cell_type": "code",
   "execution_count": 96,
   "metadata": {},
   "outputs": [
    {
     "data": {
      "text/plain": [
       "2"
      ]
     },
     "execution_count": 96,
     "metadata": {},
     "output_type": "execute_result"
    }
   ],
   "source": [
    "np. argmax(model_deep.predict(test_data)[0])"
   ]
  },
  {
   "cell_type": "code",
   "execution_count": null,
   "metadata": {},
   "outputs": [],
   "source": []
  },
  {
   "cell_type": "code",
   "execution_count": null,
   "metadata": {},
   "outputs": [],
   "source": []
  },
  {
   "cell_type": "code",
   "execution_count": null,
   "metadata": {},
   "outputs": [],
   "source": []
  }
 ],
 "metadata": {
  "kernelspec": {
   "display_name": "Python 3",
   "language": "python",
   "name": "python3"
  },
  "language_info": {
   "codemirror_mode": {
    "name": "ipython",
    "version": 3
   },
   "file_extension": ".py",
   "mimetype": "text/x-python",
   "name": "python",
   "nbconvert_exporter": "python",
   "pygments_lexer": "ipython3",
   "version": "3.7.7"
  }
 },
 "nbformat": 4,
 "nbformat_minor": 4
}
